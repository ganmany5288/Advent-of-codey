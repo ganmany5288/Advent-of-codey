{
  "cells": [
    {
      "cell_type": "markdown",
      "id": "c0ccdc19",
      "metadata": {
        "cell_marker": "\"\"\"",
        "id": "c0ccdc19"
      },
      "source": [
        "# Telegram: 1. Basic\n",
        "\n",
        "The following tutorial shows how to run a regular Chatsky script in Telegram.\n",
        "It asks users for the '/start' command and then loops in one place.\n",
        "\n",
        "Here, [LongpollingInterface](../apiref/chatsky.messengers.telegram.interface.rst#chatsky.messengers.telegram.interface.LongpollingInterface)\n",
        "class and [python-telegram-bot](https://docs.python-telegram-bot.org/)\n",
        "library are used for accessing telegram API in polling mode.\n",
        "\n",
        "Telegram API token is required to access telegram API."
      ]
    },
    {
      "cell_type": "code",
      "execution_count": 1,
      "id": "2e038a84",
      "metadata": {
        "execution": {
          "iopub.execute_input": "2025-02-18T10:20:51.310223Z",
          "iopub.status.busy": "2025-02-18T10:20:51.309499Z",
          "iopub.status.idle": "2025-02-18T10:20:52.559825Z",
          "shell.execute_reply": "2025-02-18T10:20:52.558986Z"
        },
        "colab": {
          "base_uri": "https://localhost:8080/"
        },
        "id": "2e038a84",
        "outputId": "d3b5ce74-039c-4003-defb-3a9036fd8008"
      },
      "outputs": [
        {
          "output_type": "stream",
          "name": "stdout",
          "text": [
            "\u001b[?25l   \u001b[90m━━━━━━━━━━━━━━━━━━━━━━━━━━━━━━━━━━━━━━━━\u001b[0m \u001b[32m0.0/180.1 kB\u001b[0m \u001b[31m?\u001b[0m eta \u001b[36m-:--:--\u001b[0m\r\u001b[2K   \u001b[91m━━━━━━━━━━━━━━━━━━━━━━━━━━━━━━━━━━━━━━\u001b[0m\u001b[91m╸\u001b[0m\u001b[90m━\u001b[0m \u001b[32m174.1/180.1 kB\u001b[0m \u001b[31m8.4 MB/s\u001b[0m eta \u001b[36m0:00:01\u001b[0m\r\u001b[2K   \u001b[90m━━━━━━━━━━━━━━━━━━━━━━━━━━━━━━━━━━━━━━━━\u001b[0m \u001b[32m180.1/180.1 kB\u001b[0m \u001b[31m4.7 MB/s\u001b[0m eta \u001b[36m0:00:00\u001b[0m\n",
            "\u001b[?25h\u001b[?25l   \u001b[90m━━━━━━━━━━━━━━━━━━━━━━━━━━━━━━━━━━━━━━━━\u001b[0m \u001b[32m0.0/676.1 kB\u001b[0m \u001b[31m?\u001b[0m eta \u001b[36m-:--:--\u001b[0m\r\u001b[2K   \u001b[91m━━━━━━━━━━━━━━━━━━━━━━━━━━━━━━━━━━━━━━━\u001b[0m\u001b[91m╸\u001b[0m \u001b[32m675.8/676.1 kB\u001b[0m \u001b[31m36.1 MB/s\u001b[0m eta \u001b[36m0:00:01\u001b[0m\r\u001b[2K   \u001b[90m━━━━━━━━━━━━━━━━━━━━━━━━━━━━━━━━━━━━━━━━\u001b[0m \u001b[32m676.1/676.1 kB\u001b[0m \u001b[31m18.5 MB/s\u001b[0m eta \u001b[36m0:00:00\u001b[0m\n",
            "\u001b[?25h\u001b[?25l   \u001b[90m━━━━━━━━━━━━━━━━━━━━━━━━━━━━━━━━━━━━━━━━\u001b[0m \u001b[32m0.0/64.0 kB\u001b[0m \u001b[31m?\u001b[0m eta \u001b[36m-:--:--\u001b[0m\r\u001b[2K   \u001b[90m━━━━━━━━━━━━━━━━━━━━━━━━━━━━━━━━━━━━━━━━\u001b[0m \u001b[32m64.0/64.0 kB\u001b[0m \u001b[31m3.9 MB/s\u001b[0m eta \u001b[36m0:00:00\u001b[0m\n",
            "\u001b[?25h"
          ]
        }
      ],
      "source": [
        "# installing dependencies\n",
        "%pip install -q chatsky[telegram]==0.10.0"
      ]
    },
    {
      "cell_type": "code",
      "execution_count": 2,
      "id": "d9724506",
      "metadata": {
        "execution": {
          "iopub.execute_input": "2025-02-18T10:20:52.562385Z",
          "iopub.status.busy": "2025-02-18T10:20:52.561921Z",
          "iopub.status.idle": "2025-02-18T10:20:54.212194Z",
          "shell.execute_reply": "2025-02-18T10:20:54.211420Z"
        },
        "lines_to_next_cell": 2,
        "id": "d9724506"
      },
      "outputs": [],
      "source": [
        "import os\n",
        "\n",
        "from chatsky import (\n",
        "    RESPONSE,\n",
        "    TRANSITIONS,\n",
        "    Pipeline,\n",
        "    Transition as Tr,\n",
        "    conditions as cnd,\n",
        "    destinations as dst,\n",
        ")\n",
        "from chatsky.messengers.telegram import LongpollingInterface\n",
        "from chatsky.utils.testing.common import is_interactive_mode"
      ]
    },
    {
      "cell_type": "markdown",
      "id": "2317db7f",
      "metadata": {
        "cell_marker": "\"\"\"",
        "lines_to_next_cell": 2,
        "id": "2317db7f"
      },
      "source": [
        "In order to integrate your script with Telegram, you need an instance of the\n",
        "[_AbstractTelegramInterface](../apiref/chatsky.messengers.telegram.abstract.rst#chatsky.messengers.telegram.abstract._AbstractTelegramInterface) class.\n",
        "Two of its child subclasses that can be instantiated\n",
        "are [LongpollingInterface](../apiref/chatsky.messengers.telegram.interface.rst#chatsky.messengers.telegram.interface.LongpollingInterface) and\n",
        "[WebhookInterface](../apiref/chatsky.messengers.telegram.interface.rst#chatsky.messengers.telegram.interface.WebhookInterface).\n",
        "The latter requires a webserver, so here we use long polling interface.\n",
        "\n",
        "[_AbstractTelegramInterface](../apiref/chatsky.messengers.telegram.abstract.rst#chatsky.messengers.telegram.abstract._AbstractTelegramInterface)\n",
        "encapsulates the bot logic. The only required\n",
        "argument for a bot to run is a token. Some other parameters\n",
        "(such as host, port, interval, etc.) can be passed as keyword arguments\n",
        "(for their specs see [documentations of the child subclasses](\n",
        "../apiref/chatsky.messengers.telegram.interface.rst\n",
        ").\n",
        "\n",
        "Either of the two interfaces connect the bot to Telegram.\n",
        "They can be passed directly to a Chatsky `Pipeline` instance.\n",
        "\n",
        "\n",
        "<div class=\"alert alert-info\">\n",
        "\n",
        "Note\n",
        "\n",
        "You can also import `LongpollingInterface`\n",
        "under the alias of `TelegramInterface` from `chatsky.messengers`:\n",
        "\n",
        "```python\n",
        "from chatsky.messengers import TelegramInterface\n",
        "```\n",
        "\n",
        "</div>"
      ]
    },
    {
      "cell_type": "code",
      "execution_count": 3,
      "id": "acba96b0",
      "metadata": {
        "execution": {
          "iopub.execute_input": "2025-02-18T10:20:54.214960Z",
          "iopub.status.busy": "2025-02-18T10:20:54.214626Z",
          "iopub.status.idle": "2025-02-18T10:20:54.219176Z",
          "shell.execute_reply": "2025-02-18T10:20:54.218618Z"
        },
        "lines_to_next_cell": 2,
        "id": "acba96b0"
      },
      "outputs": [],
      "source": [
        "script = {\n",
        "    \"greeting_flow\": {\n",
        "        \"start_node\": {\n",
        "            TRANSITIONS: [\n",
        "                Tr(dst=\"greeting_node\", cnd=cnd.ExactMatch(\"/start\"))\n",
        "            ],\n",
        "        },\n",
        "        \"greeting_node\": {\n",
        "            RESPONSE: \"Hi\",\n",
        "            TRANSITIONS: [Tr(dst=dst.Current())],\n",
        "        },\n",
        "        \"fallback_node\": {\n",
        "            RESPONSE: \"Please, repeat the request\",\n",
        "            TRANSITIONS: [\n",
        "                Tr(dst=\"greeting_node\", cnd=cnd.ExactMatch(\"/start\"))\n",
        "            ],\n",
        "        },\n",
        "    }\n",
        "}"
      ]
    },
    {
      "cell_type": "code",
      "execution_count": 4,
      "id": "410a0cb1",
      "metadata": {
        "execution": {
          "iopub.execute_input": "2025-02-18T10:20:54.221274Z",
          "iopub.status.busy": "2025-02-18T10:20:54.220891Z",
          "iopub.status.idle": "2025-02-18T10:20:54.274169Z",
          "shell.execute_reply": "2025-02-18T10:20:54.273589Z"
        },
        "lines_to_next_cell": 2,
        "colab": {
          "base_uri": "https://localhost:8080/",
          "height": 184
        },
        "id": "410a0cb1",
        "outputId": "2f3065c1-fc72-479e-b05e-ff0f4f798711"
      },
      "outputs": [
        {
          "output_type": "error",
          "ename": "KeyError",
          "evalue": "'TG_BOT_TOKEN'",
          "traceback": [
            "\u001b[0;31m---------------------------------------------------------------------------\u001b[0m",
            "\u001b[0;31mKeyError\u001b[0m                                  Traceback (most recent call last)",
            "\u001b[0;32m/tmp/ipython-input-4-1872927718.py\u001b[0m in \u001b[0;36m<cell line: 0>\u001b[0;34m()\u001b[0m\n\u001b[0;32m----> 1\u001b[0;31m \u001b[0minterface\u001b[0m \u001b[0;34m=\u001b[0m \u001b[0mLongpollingInterface\u001b[0m\u001b[0;34m(\u001b[0m\u001b[0mtoken\u001b[0m\u001b[0;34m=\u001b[0m\u001b[0mos\u001b[0m\u001b[0;34m.\u001b[0m\u001b[0menviron\u001b[0m\u001b[0;34m[\u001b[0m\u001b[0;34m\"TG_BOT_TOKEN\"\u001b[0m\u001b[0;34m]\u001b[0m\u001b[0;34m)\u001b[0m\u001b[0;34m\u001b[0m\u001b[0;34m\u001b[0m\u001b[0m\n\u001b[0m",
            "\u001b[0;32m/usr/lib/python3.11/os.py\u001b[0m in \u001b[0;36m__getitem__\u001b[0;34m(self, key)\u001b[0m\n",
            "\u001b[0;31mKeyError\u001b[0m: 'TG_BOT_TOKEN'"
          ]
        }
      ],
      "source": [
        "from google.colab import userdata\n",
        "\n",
        "# Get the Telegram bot token from Colab secrets\n",
        "telegram_token = \"7813035144:AAFKNzMsrj3tgj6V7uEnaFCXZsl-9c1Cutg\"\n",
        "\n",
        "# Check if the token is available\n",
        "if not telegram_token:\n",
        "  raise ValueError(\"Telegram bot token not found. Please store it in Colab secrets under the name 'TG_BOT_TOKEN'.\")\n",
        "\n",
        "interface = LongpollingInterface(token=telegram_token)"
      ]
    },
    {
      "cell_type": "code",
      "execution_count": null,
      "id": "884636ba",
      "metadata": {
        "execution": {
          "iopub.execute_input": "2025-02-18T10:20:54.276217Z",
          "iopub.status.busy": "2025-02-18T10:20:54.276022Z",
          "iopub.status.idle": "2025-02-18T10:20:54.280292Z",
          "shell.execute_reply": "2025-02-18T10:20:54.279735Z"
        },
        "id": "884636ba"
      },
      "outputs": [],
      "source": [
        "pipeline = Pipeline(\n",
        "    script=script,\n",
        "    start_label=(\"greeting_flow\", \"start_node\"),\n",
        "    fallback_label=(\"greeting_flow\", \"fallback_node\"),\n",
        "    messenger_interface=interface,\n",
        "    # The interface can be passed as a pipeline argument.\n",
        ")\n",
        "\n",
        "\n",
        "if __name__ == \"__main__\":\n",
        "    if is_interactive_mode():\n",
        "        # prevent run during doc building\n",
        "        pipeline.run()"
      ]
    }
  ],
  "metadata": {
    "jupytext": {
      "cell_metadata_filter": "-all",
      "main_language": "python",
      "notebook_metadata_filter": "-all",
      "text_representation": {
        "extension": ".py",
        "format_name": "percent"
      }
    },
    "language_info": {
      "name": "python"
    },
    "colab": {
      "provenance": []
    },
    "kernelspec": {
      "name": "python3",
      "display_name": "Python 3"
    }
  },
  "nbformat": 4,
  "nbformat_minor": 5
}